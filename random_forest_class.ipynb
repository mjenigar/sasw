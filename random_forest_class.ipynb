{
  "nbformat": 4,
  "nbformat_minor": 0,
  "metadata": {
    "colab": {
      "name": "random_forest_class.ipynb",
      "provenance": [],
      "collapsed_sections": []
    },
    "kernelspec": {
      "name": "python3",
      "display_name": "Python 3"
    },
    "language_info": {
      "name": "python"
    }
  },
  "cells": [
    {
      "cell_type": "code",
      "metadata": {
        "colab": {
          "base_uri": "https://localhost:8080/"
        },
        "id": "ZGxygdh9WrVk",
        "outputId": "56aa83cf-366e-4ef1-e7ee-3973a31051c6"
      },
      "source": [
        "from google.colab import drive\n",
        "drive.mount('/content/drive', force_remount=True)"
      ],
      "execution_count": null,
      "outputs": [
        {
          "output_type": "stream",
          "name": "stdout",
          "text": [
            "Mounted at /content/drive\n"
          ]
        }
      ]
    },
    {
      "cell_type": "code",
      "metadata": {
        "colab": {
          "base_uri": "https://localhost:8080/"
        },
        "id": "Zyk92Ss2WtXx",
        "outputId": "19b6bace-51fb-4a4e-d900-5e8f12a02b83"
      },
      "source": [
        "!unzip drive/MyDrive/sasw/data/data1.zip\n",
        "# !unzip drive/MyDrive/sasw/data/data2.zip\n",
        "# !unzip drive/MyDrive/sasw/data/data3.zip"
      ],
      "execution_count": null,
      "outputs": [
        {
          "output_type": "stream",
          "name": "stdout",
          "text": [
            "Archive:  drive/MyDrive/sasw/data/data1.zip\n",
            "  inflating: submit.csv              \n",
            "  inflating: test.csv                \n",
            "  inflating: train.csv               \n"
          ]
        }
      ]
    },
    {
      "cell_type": "code",
      "metadata": {
        "colab": {
          "base_uri": "https://localhost:8080/",
          "height": 670
        },
        "id": "t42QiEdvW7wa",
        "outputId": "0a41c428-4ea3-4012-df0b-6868a79faae9"
      },
      "source": [
        "from DataLoader import DataLoader\n",
        "from Model import ModelRandomForestClassifier\n",
        "\n",
        "ROOT = \"data/\"\n",
        "# datasets = [\"data1\", \"data2\", \"data3\"]\n",
        "datasets = [\"data1\"]\n",
        "\n",
        "dataset = DataLoader(ROOT, datasets, train_size=0.7, load=100)\n",
        "dataset.dataset"
      ],
      "execution_count": 2,
      "outputs": [
        {
          "output_type": "stream",
          "name": "stdout",
          "text": [
            "Loading datasets...\n",
            "Loading from: data/data1/train.csv\n",
            "Loaded: 100 rows\n",
            "\n",
            "Total loaded 4 rows\n",
            "\n",
            "Cleaning dataset...\n"
          ]
        },
        {
          "output_type": "stream",
          "name": "stderr",
          "text": [
            "  0%|          | 0/100 [00:00<?, ?it/s]/content/DataLoader.py:97: SettingWithCopyWarning: \n",
            "A value is trying to be set on a copy of a slice from a DataFrame\n",
            "\n",
            "See the caveats in the documentation: https://pandas.pydata.org/pandas-docs/stable/user_guide/indexing.html#returning-a-view-versus-a-copy\n",
            "  self.dataset[\"clean\"][i] = output\n",
            "100%|██████████| 100/100 [00:01<00:00, 61.86it/s]\n"
          ]
        },
        {
          "output_type": "execute_result",
          "data": {
            "text/html": [
              "<div>\n",
              "<style scoped>\n",
              "    .dataframe tbody tr th:only-of-type {\n",
              "        vertical-align: middle;\n",
              "    }\n",
              "\n",
              "    .dataframe tbody tr th {\n",
              "        vertical-align: top;\n",
              "    }\n",
              "\n",
              "    .dataframe thead th {\n",
              "        text-align: right;\n",
              "    }\n",
              "</style>\n",
              "<table border=\"1\" class=\"dataframe\">\n",
              "  <thead>\n",
              "    <tr style=\"text-align: right;\">\n",
              "      <th></th>\n",
              "      <th>content</th>\n",
              "      <th>clean_words</th>\n",
              "      <th>clean</th>\n",
              "      <th>label</th>\n",
              "    </tr>\n",
              "  </thead>\n",
              "  <tbody>\n",
              "    <tr>\n",
              "      <th>0</th>\n",
              "      <td>House Dem Aide: We Didn’t Even See Comey’s Let...</td>\n",
              "      <td>None</td>\n",
              "      <td>hous dem aid we didn even see comey letter unt...</td>\n",
              "      <td>1</td>\n",
              "    </tr>\n",
              "    <tr>\n",
              "      <th>1</th>\n",
              "      <td>FLYNN: Hillary Clinton, Big Woman on Campus - ...</td>\n",
              "      <td>None</td>\n",
              "      <td>flynn hillari clinton big woman campus breitba...</td>\n",
              "      <td>0</td>\n",
              "    </tr>\n",
              "    <tr>\n",
              "      <th>2</th>\n",
              "      <td>Why the Truth Might Get You Fired Why the Trut...</td>\n",
              "      <td>None</td>\n",
              "      <td>whi truth might get you fire whi truth might g...</td>\n",
              "      <td>1</td>\n",
              "    </tr>\n",
              "    <tr>\n",
              "      <th>3</th>\n",
              "      <td>15 Civilians Killed In Single US Airstrike Hav...</td>\n",
              "      <td>None</td>\n",
              "      <td>civilian kill in singl us airstrik have been i...</td>\n",
              "      <td>1</td>\n",
              "    </tr>\n",
              "    <tr>\n",
              "      <th>4</th>\n",
              "      <td>Iranian woman jailed for fictional unpublished...</td>\n",
              "      <td>None</td>\n",
              "      <td>iranian woman jail fiction unpublish stori wom...</td>\n",
              "      <td>1</td>\n",
              "    </tr>\n",
              "    <tr>\n",
              "      <th>...</th>\n",
              "      <td>...</td>\n",
              "      <td>...</td>\n",
              "      <td>...</td>\n",
              "      <td>...</td>\n",
              "    </tr>\n",
              "    <tr>\n",
              "      <th>95</th>\n",
              "      <td>White House Confirms More Gitmo Transfers Befo...</td>\n",
              "      <td>None</td>\n",
              "      <td>white hous confirm more gitmo transfer befor o...</td>\n",
              "      <td>0</td>\n",
              "    </tr>\n",
              "    <tr>\n",
              "      <th>96</th>\n",
              "      <td>The Geometry of Energy and Meditation of Buddh...</td>\n",
              "      <td>None</td>\n",
              "      <td>the geometri energi medit buddha licens dmca a...</td>\n",
              "      <td>1</td>\n",
              "    </tr>\n",
              "    <tr>\n",
              "      <th>97</th>\n",
              "      <td>Poll: Most Voters Have Not Heard of Democratic...</td>\n",
              "      <td>None</td>\n",
              "      <td>poll most voter have not heard democrat elect ...</td>\n",
              "      <td>0</td>\n",
              "    </tr>\n",
              "    <tr>\n",
              "      <th>98</th>\n",
              "      <td>Migrants Confront Judgment Day Over Old Deport...</td>\n",
              "      <td>None</td>\n",
              "      <td>migrant confront judgment day over old deport ...</td>\n",
              "      <td>0</td>\n",
              "    </tr>\n",
              "    <tr>\n",
              "      <th>99</th>\n",
              "      <td>M.I.T., N.Y.U. and Yale Are Sued Over Retireme...</td>\n",
              "      <td>None</td>\n",
              "      <td>mit nyu yale are su over retir plan fee the ne...</td>\n",
              "      <td>0</td>\n",
              "    </tr>\n",
              "  </tbody>\n",
              "</table>\n",
              "<p>100 rows × 4 columns</p>\n",
              "</div>"
            ],
            "text/plain": [
              "                                              content  ... label\n",
              "0   House Dem Aide: We Didn’t Even See Comey’s Let...  ...     1\n",
              "1   FLYNN: Hillary Clinton, Big Woman on Campus - ...  ...     0\n",
              "2   Why the Truth Might Get You Fired Why the Trut...  ...     1\n",
              "3   15 Civilians Killed In Single US Airstrike Hav...  ...     1\n",
              "4   Iranian woman jailed for fictional unpublished...  ...     1\n",
              "..                                                ...  ...   ...\n",
              "95  White House Confirms More Gitmo Transfers Befo...  ...     0\n",
              "96  The Geometry of Energy and Meditation of Buddh...  ...     1\n",
              "97  Poll: Most Voters Have Not Heard of Democratic...  ...     0\n",
              "98  Migrants Confront Judgment Day Over Old Deport...  ...     0\n",
              "99  M.I.T., N.Y.U. and Yale Are Sued Over Retireme...  ...     0\n",
              "\n",
              "[100 rows x 4 columns]"
            ]
          },
          "metadata": {},
          "execution_count": 2
        }
      ]
    },
    {
      "cell_type": "code",
      "metadata": {
        "colab": {
          "base_uri": "https://localhost:8080/",
          "height": 109
        },
        "id": "ejvclTIajo3_",
        "outputId": "17ab7a77-9391-4e1a-9a98-9599e4f15fb6"
      },
      "source": [
        "dataset.GetSample(1)"
      ],
      "execution_count": null,
      "outputs": [
        {
          "output_type": "execute_result",
          "data": {
            "application/vnd.google.colaboratory.intrinsic+json": {
              "type": "string"
            },
            "text/plain": [
              "'flynn hillari clinton big woman campus breitbart ever get feel life circl roundabout rather head straight line toward intend destin hillari clinton remain big woman campus leafi liber wellesley massachusett everywher els vote like inaugur dress remaind day way miss havisham forev wore wed dress speak great expect hillari rodham overflow year ago first address wellesley graduat class the presid colleg inform gather student need debat far i could ascertain spokesman kind like democrat primari minus term unknown even seven sister school i glad miss adam made clear i speak today us us miss rodham told classmat after appoint edger bergen charli mccarthi mortim snerd attend bespectacl granni glass award matron wisdom least john lennon wisdom took issu previous speaker despit becom first win elect seat u s senat sinc reconstruct edward brook came critic call empathi goal protestor critic tactic though clinton senior thesi saul alinski lament black power demagogu elitist arrog repress intoler within new left similar word come republican necessit brief rebutt trust rodham iron observ one word i ask class rehears want say everyon came said talk trust talk lack trust us way feel other talk trust bust what say what say feel permeat generat perhap even understood distrust the trust bust certain bust clinton plan she certain even understand peopl distrust after whitewat travelg vast conspiraci benghazi miss email clinton found distrust voic friday there load compromis road broaden polit horizon and distrust american peopl trump edg percent percent question immedi prior novemb elect stood major reason close horizon clinton describ vanquish support embrac lie con altern fact assault truth reason she fail explain american peopl chose lie truth as histori major among today know well peopl power invent fact attack question mark begin end free societi offer that hyperbol like mani peopl emerg hillari clinton embark upon long strang trip from high school goldwat girl wellesley colleg republican presid democrat politician clinton drank time place gave degre more signific went idealist cynic comparison two wellesley commenc address show way back lament long leader view polit art possibl challeng practic polit art make appear imposs possibl now big woman campus odd woman white hous wonder current station even possibl whi i point ahead ask septemb in may ask presid the woman famous dub congenit liar bill safir conclud lie mind get stood elect day like find jilt bride wed day inspir danger delus'"
            ]
          },
          "metadata": {},
          "execution_count": 3
        }
      ]
    },
    {
      "cell_type": "code",
      "metadata": {
        "colab": {
          "base_uri": "https://localhost:8080/",
          "height": 497
        },
        "id": "ECny_S3Me-sQ",
        "outputId": "57062be2-51d1-40bc-cceb-18cd040a188e"
      },
      "source": [
        "dataset.PlotClassRation()"
      ],
      "execution_count": 3,
      "outputs": [
        {
          "output_type": "display_data",
          "data": {
            "image/png": "[encoded data removed]",
            "text/plain": [
              "<Figure size 576x576 with 1 Axes>"
            ]
          },
          "metadata": {
            "needs_background": "light"
          }
        }
      ]
    },
    {
      "cell_type": "code",
      "metadata": {
        "id": "2HLW33caY3me",
        "colab": {
          "base_uri": "https://localhost:8080/",
          "height": 312
        },
        "outputId": "0cbaae64-cebc-4ec8-ca39-8ad5b6a5aa32"
      },
      "source": [
        "model = ModelRandomForestClassifier(dataset)\n",
        "model.PreprocessData()\n",
        "model.Train()\n",
        "model.Predict()\n",
        "model.SaveModel()"
      ],
      "execution_count": 4,
      "outputs": [
        {
          "output_type": "stream",
          "name": "stdout",
          "text": [
            "Precision: 0.692 / Recall: 0.692 / F1-Score: 0.692 / Accuracy: 0.742\n"
          ]
        },
        {
          "output_type": "display_data",
          "data": {
            "image/png": "[encoded data removed]",
            "text/plain": [
              "<Figure size 432x288 with 2 Axes>"
            ]
          },
          "metadata": {
            "needs_background": "light"
          }
        }
      ]
    },
    {
      "cell_type": "code",
      "metadata": {
        "colab": {
          "base_uri": "https://localhost:8080/"
        },
        "id": "hfH8HgawiBhE",
        "outputId": "7f1e2bbd-fd33-4c80-9aa1-dfd1b88f1334"
      },
      "source": [
        "from Model import ModelRandomForestClassifier\n",
        "\n",
        "model = ModelRandomForestClassifier(None)\n",
        "model.LoadModel(\"rfc.pkl\")"
      ],
      "execution_count": 1,
      "outputs": [
        {
          "output_type": "stream",
          "name": "stdout",
          "text": [
            "[nltk_data] Downloading package stopwords to /root/nltk_data...\n",
            "[nltk_data]   Package stopwords is already up-to-date!\n",
            "[nltk_data] Downloading package punkt to /root/nltk_data...\n",
            "[nltk_data]   Package punkt is already up-to-date!\n"
          ]
        },
        {
          "output_type": "execute_result",
          "data": {
            "text/plain": [
              "RandomForestClassifier()"
            ]
          },
          "metadata": {},
          "execution_count": 1
        }
      ]
    },
    {
      "cell_type": "code",
      "metadata": {
        "id": "vtz-4j3uXKx-",
        "colab": {
          "base_uri": "https://localhost:8080/"
        },
        "outputId": "c8dbaf33-2de4-4873-ecb2-c1d984729516"
      },
      "source": [
        "title = \"Specter of Trump Loosens Tongues, if Not Purse Strings, in Silicon Valley - The New York Times\"\n",
        "content = 'David Streitfeld,\"PALO ALTO, Calif.  â   After years of scorning the political process, Silicon Valley has leapt into the fray. The prospect of a President Donald J. Trump is pushing the tech community to move beyond its traditional role as donors and to embrace a new existence as agitators and activists. A distinguished venture capital firm emblazoned on its corporate home page an earthy   epithet. One prominent tech chieftain says the consequences of Mr. Trumpâs election would ârange between disastrous and terrible. â Another compares him to a dictator. And nearly 150 tech leaders signed an open letter decrying Mr. Trump and his campaign of âangerâ and âbigotry. â Not quite all the action is  . Peter Thiel, a founder of PayPal and Palantir who was the first outside investor in Facebook, spoke at the Republican convention in July. The New York Times reported on Saturday that Mr. Thiel is giving $1. 25 million to support Mr. Trumpâs candidacy even as other supporters flee. (He also recently gave $1 million to a âsuper PACâ that supports Senator Rob Portman, the Republican freshman running for   in Ohio.) Getting involved in politics used to be seen as clashing with Silicon Valleyâs value system: You transform the world by making problems obsolete, not solving them through Washington. Nor did entrepreneurs want to alienate whatever segment of customers did not agree with them politically. Such reticence is no longer in style here. âWeâre a bunch of nerds not used to having a lot of limelight,â said Dave McClure, an investor who runs a tech incubator called 500 Startups. âBut to quote   âWith great power comes great responsibility. ââ Mr. McClure grew worried after the Republican and Democratic conventions as Mr. Trump began to catch up to Hillary Clinton in the polls. He wanted Silicon Valley to do more, and so late last month he announced Nerdz4Hillary, an informal   effort. An initial group of donors pledged $50, 000 the goal was to ask the ânerdzâ for small donations to match that sum. They have not come through yet. âWeâre kind of optimistic weâll get the other $50, 000 in a few weeks,â Mr. McClure said. That relatively slow pace reflects Silicon Valleyâs shifting position: Even as it becomes increasingly free with its opinions, it has been less free with its checkbook. The most recent data, from late August, shows Mrs. Clinton taking in $7. 7 million from the tech community, according to Crowdpac, a   that tracks donations. By that point in 2012, Crowdpac says, President Obama had raised $21 million from entrepreneurs and venture capitalists. Reid Hoffman, the billionaire   of the business networking site LinkedIn, offers a snapshot of Silicon Valleyâs evolving approach to politics. Mr. Hoffman was a top Obama donor, giving $1 million to the Priorities USA political action committee, something several of his peers did as well. Last month, Mr. Hoffman garnered worldwide publicity for saying he would donate up to $5 million to veteransâ groups if Mr. Trump released his taxes, a remote possibility that never came to pass. He has castigated Mr. Trump in interviews, saying he was speaking for those who were afraid. Mr. Hoffmanâs outright donations, however, have been smaller this election cycle. In May, he gave $400, 000 to the Hillary Victory Fund. Asked if there was more recent giving that had not shown up in federal election records, Mr. Hoffman cryptically responded in an email, âLooking at some PACs, etc. â He declined several opportunities to elaborate. Even as Priorities USA has raised $133 million this election cycle, far exceeding its total in 2012, its tech contributions have dwindled. The only familiar tech name this time around is John Doerr of the venture capital firm Kleiner Perkins Caufield  Byers, who gave $500, 000. The AOL   Steve Case said his September endorsement of Mrs. Clinton, via an   in The Washington Post, was the first time he ever publicly declared for a candidate. âI always focused on policy and avoided politics,â he said. âBut if Trump were elected president, I would be disappointed in myself for not acting. â When he wrote the   he was uncertain about donating money to Mrs. Clinton, saying only that it was âprobable. â A spokeswoman said Sunday that Mr. Case gave $25, 000 to the Hillary Victory Fund. Mason Harrison, Crowdpacâs head of communications, offered a possible reason for Mrs. Clintonâs    support. âDonors give to support candidates they love, not to defeat candidates they fear,â he said. A few billionaires are acting instead of talking. Dustin Moskovitz, a founder of Facebook, said he was giving $20 million to various Democratic election efforts  â   the first time he and his wife, Cari Tuna, have endorsed a candidate. He declined to be interviewed. Part of the problem for Mrs. Clinton is that, however preferable she may be to Mr. Trump in the tech community, she pales in comparison to President Obama. After some initial misgivings, Silicon Valley found its champion in him. There has been a revolving door between tech and the Obama administration, just as previous Democratic administrations had a revolving door with Wall Street. In June, President Obama seemed to suggest that he might become a venture capitalist after his term ends. Mrs. Clinton is not as enthusiastic toward Silicon Valley and its disruptive ways. In a speech in the summer of 2015, she noted that   in the â  or   gig economyâ  â   Uber, Airbnb and their ilk  â   were âunleashing innovationâ but also âraising hard questions about workplace protection and what a good job will look like in the future. â The Clinton campaign declined to comment. The Trump campaign did not respond to a query. Even as Silicon Valley works against Mr. Trump, there is quiet acknowledgment that his campaign has bared some important issues. In an endorsement this month of Mrs. Clinton, the venture capital firm Union Square Ventures pointed out that âthe benefits of technology and globalization have not been evenly distributed,â and that this needed to change. If Silicon Valleyâs political involvement outlasts this unusual election, the tech community may start contributing more to the process than commentary and cash. âNot only are tech people going to be wielding influence, but theyâre going to be the candidate,â Mr. McClure said. âReid Hoffman, Sheryl Sandbergâ  â   the chief operating officer of Facebook  â   âand a bunch of other folks here have political aspirations. â Others may be inspired to enter politics through other doors. Palmer Luckey is the    founder of the Oculus virtual reality company, which he sold to Facebook for $2 billion. Mr. Luckey donated $10, 000 to a group dedicated to spreading    messages about Mrs. Clinton both online and off. The groupâs first billboard, said to be outside Pittsburgh, labeled her âToo Big to Jail. â Mr. Luckey told The Daily Beast that his thinking âwent along the lines of, âHey, I have a bunch of money. I would love to see more of this stuff. ââ He added, âI thought it sounded like a real jolly good time. â Many virtual reality developers were less happy, and Mr. Luckey quickly posted his regrets on Facebook. He declined to comment further. âIf weâre going to be more vocal, weâll have to live more transparently,â said Hunter Walk, a venture capitalist whose campaign to persuade tech companies to give workers Election Day off signed up nearly 300 firms, including Spotify, SurveyMonkey and TaskRabbit. âThere will be a period of adjustment. â But perhaps being vocal is a temporary condition after all. The venture firm CRV was in the spotlight at the end of August with its blunt   message, which included the earthy epithet. A few weeks later, it cleaned up its website. The partners went from employing a publicist to seek out attention to declining interviews. âWe reached everyone we wanted to reach, and hopefully influenced opinions,â said Saar Gur, a CRV venture capitalist. âThen the buzz died down and we went back to our day jobs, which are super busy. â'\n",
        "\n",
        "title2 = \"Donald Trump is an Alien\"\n",
        "content2 = \"Donald Trump has confessed to being from another planet outside our galaxy. He says there are a couple of alien ships on the way to Earth to make first contact but our humanity isn't ready for that.\"\n",
        "\n",
        "model.MakePrediction(title, content)\n",
        "model.MakePrediction(title2, content2)"
      ],
      "execution_count": 4,
      "outputs": [
        {
          "output_type": "stream",
          "name": "stdout",
          "text": [
            "[0]\n",
            "[1]\n"
          ]
        }
      ]
    },
    {
      "cell_type": "code",
      "metadata": {
        "id": "tLjgr4wrhbeC"
      },
      "source": [
        "model ="
      ],
      "execution_count": null,
      "outputs": []
    }
  ]
}
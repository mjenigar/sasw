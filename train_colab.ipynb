{
  "nbformat": 4,
  "nbformat_minor": 0,
  "metadata": {
    "colab": {
      "name": "sasw_dataset.ipynb",
      "provenance": []
    },
    "kernelspec": {
      "name": "python3",
      "display_name": "Python 3"
    },
    "language_info": {
      "name": "python"
    }
  },
  "cells": [
    {
      "cell_type": "code",
      "metadata": {
        "colab": {
          "base_uri": "https://localhost:8080/"
        },
        "id": "YwnXboNG8M86",
        "outputId": "bb01fe24-d8f0-4346-9f56-cd228f8cc764"
      },
      "source": [
        "from google.colab import drive\n",
        "drive.mount('/content/drive', force_remount=True)"
      ],
      "execution_count": 1,
      "outputs": [
        {
          "output_type": "stream",
          "name": "stdout",
          "text": [
            "Mounted at /content/drive\n"
          ]
        }
      ]
    },
    {
      "cell_type": "code",
      "metadata": {
        "colab": {
          "base_uri": "https://localhost:8080/"
        },
        "id": "debfb2IPqO95",
        "outputId": "11bff27c-6463-446f-8568-20f61d49e480"
      },
      "source": [
        "!unzip drive/MyDrive/sasw/data/data1.zip\n",
        "!unzip drive/MyDrive/sasw/data/data2.zip\n",
        "!unzip drive/MyDrive/sasw/data/data3.zip"
      ],
      "execution_count": 2,
      "outputs": [
        {
          "output_type": "stream",
          "name": "stdout",
          "text": [
            "Archive:  drive/MyDrive/sasw/data/data1.zip\n",
            "  inflating: submit.csv              \n",
            "  inflating: test.csv                \n",
            "  inflating: train.csv               \n",
            "Archive:  drive/MyDrive/sasw/data/data2.zip\n",
            "  inflating: Fake.csv                \n",
            "  inflating: True.csv                \n",
            "Archive:  drive/MyDrive/sasw/data/data3.zip\n",
            "  inflating: fake_or_real_news.csv   \n"
          ]
        }
      ]
    },
    {
      "cell_type": "code",
      "metadata": {
        "id": "kd-Oky4n8seM",
        "colab": {
          "base_uri": "https://localhost:8080/",
          "height": 754
        },
        "outputId": "790ef573-4eb9-46ac-a355-bc581ce4e3ae"
      },
      "source": [
        "from DataLoader import DataLoader\n",
        "from Model import Model\n",
        "\n",
        "ROOT = \"data/\"\n",
        "# datasets = [\"data1\", \"data2\", \"data3\"]\n",
        "datasets = [\"data3\"]\n",
        "\n",
        "dataset = DataLoader(ROOT, datasets)\n",
        "dataset.dataset"
      ],
      "execution_count": 2,
      "outputs": [
        {
          "output_type": "stream",
          "name": "stdout",
          "text": [
            "Loading datasets...\n",
            "Loading from: data/data3/fake_or_real_news.csv\n",
            "Loaded: 65 rows\n",
            "\n",
            "Total loaded 5 rows\n",
            "\n",
            "Cleaning dataset...\n"
          ]
        },
        {
          "output_type": "stream",
          "name": "stderr",
          "text": [
            "  0%|          | 0/65 [00:00<?, ?it/s]/content/DataLoader.py:87: SettingWithCopyWarning: \n",
            "A value is trying to be set on a copy of a slice from a DataFrame\n",
            "\n",
            "See the caveats in the documentation: https://pandas.pydata.org/pandas-docs/stable/user_guide/indexing.html#returning-a-view-versus-a-copy\n",
            "  self.dataset[\"clean_words\"][i] = self.Preprocess(\"{} {}\".format(self.dataset[\"title\"][i], self.dataset[\"text\"][i]))\n",
            "/content/DataLoader.py:88: SettingWithCopyWarning: \n",
            "A value is trying to be set on a copy of a slice from a DataFrame\n",
            "\n",
            "See the caveats in the documentation: https://pandas.pydata.org/pandas-docs/stable/user_guide/indexing.html#returning-a-view-versus-a-copy\n",
            "  self.dataset[\"clean\"][i] = \" \".join(self.dataset[\"clean_words\"][i])\n",
            "100%|██████████| 65/65 [00:00<00:00, 568.43it/s]"
          ]
        },
        {
          "output_type": "stream",
          "name": "stdout",
          "text": [
            "DATASET: train 0.7 test 0.3\n"
          ]
        },
        {
          "output_type": "stream",
          "name": "stderr",
          "text": [
            "\n"
          ]
        },
        {
          "output_type": "execute_result",
          "data": {
            "text/html": [
              "<div>\n",
              "<style scoped>\n",
              "    .dataframe tbody tr th:only-of-type {\n",
              "        vertical-align: middle;\n",
              "    }\n",
              "\n",
              "    .dataframe tbody tr th {\n",
              "        vertical-align: top;\n",
              "    }\n",
              "\n",
              "    .dataframe thead th {\n",
              "        text-align: right;\n",
              "    }\n",
              "</style>\n",
              "<table border=\"1\" class=\"dataframe\">\n",
              "  <thead>\n",
              "    <tr style=\"text-align: right;\">\n",
              "      <th></th>\n",
              "      <th>title</th>\n",
              "      <th>text</th>\n",
              "      <th>label</th>\n",
              "      <th>clean_words</th>\n",
              "      <th>clean</th>\n",
              "    </tr>\n",
              "  </thead>\n",
              "  <tbody>\n",
              "    <tr>\n",
              "      <th>0</th>\n",
              "      <td>You Can Smell Hillary’s Fear</td>\n",
              "      <td>Daniel Greenfield, a Shillman Journalism Fello...</td>\n",
              "      <td>0</td>\n",
              "      <td>[smell, hillary, fear, daniel, greenfield, shi...</td>\n",
              "      <td>smell hillary fear daniel greenfield shillman ...</td>\n",
              "    </tr>\n",
              "    <tr>\n",
              "      <th>1</th>\n",
              "      <td>Watch The Exact Moment Paul Ryan Committed Pol...</td>\n",
              "      <td>Google Pinterest Digg Linkedin Reddit Stumbleu...</td>\n",
              "      <td>0</td>\n",
              "      <td>[watch, exact, moment, paul, ryan, committed, ...</td>\n",
              "      <td>watch exact moment paul ryan committed politic...</td>\n",
              "    </tr>\n",
              "    <tr>\n",
              "      <th>2</th>\n",
              "      <td>Kerry to go to Paris in gesture of sympathy</td>\n",
              "      <td>U.S. Secretary of State John F. Kerry said Mon...</td>\n",
              "      <td>1</td>\n",
              "      <td>[kerry, paris, gesture, sympathy, secretary, s...</td>\n",
              "      <td>kerry paris gesture sympathy secretary state j...</td>\n",
              "    </tr>\n",
              "    <tr>\n",
              "      <th>3</th>\n",
              "      <td>Bernie supporters on Twitter erupt in anger ag...</td>\n",
              "      <td>— Kaydee King (@KaydeeKing) November 9, 2016 T...</td>\n",
              "      <td>0</td>\n",
              "      <td>[bernie, supporters, twitter, erupt, anger, tr...</td>\n",
              "      <td>bernie supporters twitter erupt anger tried wa...</td>\n",
              "    </tr>\n",
              "    <tr>\n",
              "      <th>4</th>\n",
              "      <td>The Battle of New York: Why This Primary Matters</td>\n",
              "      <td>It's primary day in New York and front-runners...</td>\n",
              "      <td>1</td>\n",
              "      <td>[battle, york, primary, matters, primary, york...</td>\n",
              "      <td>battle york primary matters primary york runne...</td>\n",
              "    </tr>\n",
              "    <tr>\n",
              "      <th>...</th>\n",
              "      <td>...</td>\n",
              "      <td>...</td>\n",
              "      <td>...</td>\n",
              "      <td>...</td>\n",
              "      <td>...</td>\n",
              "    </tr>\n",
              "    <tr>\n",
              "      <th>60</th>\n",
              "      <td>Detroit women’s Halloween decorations depict ‘...</td>\n",
              "      <td>Print \\n[Ed. – How to take the fun out of Hall...</td>\n",
              "      <td>0</td>\n",
              "      <td>[detroit, women, halloween, decorations, depic...</td>\n",
              "      <td>detroit women halloween decorations depict rea...</td>\n",
              "    </tr>\n",
              "    <tr>\n",
              "      <th>61</th>\n",
              "      <td>Biden makes another surprise political stop</td>\n",
              "      <td>On this day in 1973, J. Fred Buzhardt, a lawye...</td>\n",
              "      <td>1</td>\n",
              "      <td>[biden, makes, surprise, political, stop, fred...</td>\n",
              "      <td>biden makes surprise political stop fred buzha...</td>\n",
              "    </tr>\n",
              "    <tr>\n",
              "      <th>62</th>\n",
              "      <td>Hillary Clinton's declining favorability numbe...</td>\n",
              "      <td>Buried beneath Wednesday's eye-popping headlin...</td>\n",
              "      <td>1</td>\n",
              "      <td>[hillary, clinton, declining, favorability, nu...</td>\n",
              "      <td>hillary clinton declining favorability numbers...</td>\n",
              "    </tr>\n",
              "    <tr>\n",
              "      <th>63</th>\n",
              "      <td>Comment on Quid Pro Quo? Wikileaks Email Revea...</td>\n",
              "      <td>New Wikileaks email dumps have revealed massiv...</td>\n",
              "      <td>0</td>\n",
              "      <td>[comment, quid, wikileaks, email, reveals, cli...</td>\n",
              "      <td>comment quid wikileaks email reveals clinton c...</td>\n",
              "    </tr>\n",
              "    <tr>\n",
              "      <th>64</th>\n",
              "      <td>Hillary Clinton: The criminal investigation ke...</td>\n",
              "      <td>While the country has been fixated on Donald T...</td>\n",
              "      <td>1</td>\n",
              "      <td>[hillary, clinton, criminal, investigation, ke...</td>\n",
              "      <td>hillary clinton criminal investigation keeps m...</td>\n",
              "    </tr>\n",
              "  </tbody>\n",
              "</table>\n",
              "<p>65 rows × 5 columns</p>\n",
              "</div>"
            ],
            "text/plain": [
              "                                                title  ...                                              clean\n",
              "0                        You Can Smell Hillary’s Fear  ...  smell hillary fear daniel greenfield shillman ...\n",
              "1   Watch The Exact Moment Paul Ryan Committed Pol...  ...  watch exact moment paul ryan committed politic...\n",
              "2         Kerry to go to Paris in gesture of sympathy  ...  kerry paris gesture sympathy secretary state j...\n",
              "3   Bernie supporters on Twitter erupt in anger ag...  ...  bernie supporters twitter erupt anger tried wa...\n",
              "4    The Battle of New York: Why This Primary Matters  ...  battle york primary matters primary york runne...\n",
              "..                                                ...  ...                                                ...\n",
              "60  Detroit women’s Halloween decorations depict ‘...  ...  detroit women halloween decorations depict rea...\n",
              "61        Biden makes another surprise political stop  ...  biden makes surprise political stop fred buzha...\n",
              "62  Hillary Clinton's declining favorability numbe...  ...  hillary clinton declining favorability numbers...\n",
              "63  Comment on Quid Pro Quo? Wikileaks Email Revea...  ...  comment quid wikileaks email reveals clinton c...\n",
              "64  Hillary Clinton: The criminal investigation ke...  ...  hillary clinton criminal investigation keeps m...\n",
              "\n",
              "[65 rows x 5 columns]"
            ]
          },
          "metadata": {},
          "execution_count": 2
        }
      ]
    },
    {
      "cell_type": "code",
      "metadata": {
        "colab": {
          "base_uri": "https://localhost:8080/"
        },
        "id": "H2n5zy1yrBP-",
        "outputId": "ce11d0d2-3001-41b2-f224-56ef522a6b57"
      },
      "source": [
        "for i,doc in enumerate(dataset.train_sequences[:2]):\n",
        "     print(\"The padded encoding for document\",i+1,\" is : \",doc[:100])"
      ],
      "execution_count": 2,
      "outputs": [
        {
          "output_type": "stream",
          "name": "stdout",
          "text": [
            "The padded encoding for document 1  is :  [ 664  665  115  245  664  665  115  245  246  207  245  245   52  664\n",
            "  665  115  245  178  901 2196  155  902  115  245  903 2197  247  904\n",
            " 2198 1349 1350 2199  116  179 2200  905  248 2201   57  249   79   84\n",
            " 2202 2203  906 2204  907 1351  503  102   69  156   79   84  180 1352\n",
            "   70  504   85  102  331  666  208  209 2205 1353 2206  117   85  210\n",
            "   34  667   79  249  283  181  908  208  909  182  250  115 2207  157\n",
            "  183  331  249   79   84  408 1354  183  409 2208  505  910   52   79\n",
            "   84 1355]\n",
            "The padded encoding for document 2  is :  [   8    2  257  341 2254  215  216    8    2   71  215  216  416  116\n",
            "   80  677    9  925  133    6  926  514  678  342   17  515   43  927\n",
            "   10    6  417  134   12   18   81 2255   81    2  258   92    7   71\n",
            "  416 1384  679  680 2256 2257  928  217    2  516  681   46   80  929\n",
            "  215  216  116   10   53    1  930 1385 2258  186   10 2259    2 2260\n",
            " 2261  215  216  418 1386  419  682 2262  342  930  186  135 2263  342\n",
            "   93  683   64  218   47   35 2264   11  342 2265 2266   10 2267  215\n",
            "  216    2]\n"
          ]
        }
      ]
    },
    {
      "cell_type": "code",
      "metadata": {
        "colab": {
          "base_uri": "https://localhost:8080/",
          "height": 1000
        },
        "id": "ap8yfv0usUza",
        "outputId": "533a1080-31d6-4f2a-f6e6-242de60086f0"
      },
      "source": [
        "TRAIN_ID = 1\n",
        "PLOT_DIR = \"drive/MyDrive/sasw/figs/\"\n",
        "EPOCHS = 5\n",
        "LR = 0.001\n",
        "\n",
        "model = Model(dataset, lr=LR)\n",
        "model.Train(EPOCHS)\n",
        "model.PlotScore(\"acc\", \"{}{}{}{}\".format(PLOT_DIR, \"acc_\", TRAIN_ID, \".png\"))\n",
        "model.PlotScore(\"loss\", \"{}{}{}{}\".format(PLOT_DIR, \"loss_\", TRAIN_ID, \".png\"))"
      ],
      "execution_count": 4,
      "outputs": [
        {
          "output_type": "stream",
          "name": "stderr",
          "text": [
            "/usr/local/lib/python3.7/dist-packages/keras/optimizer_v2/adam.py:105: UserWarning: The `lr` argument is deprecated, use `learning_rate` instead.\n",
            "  super(Adam, self).__init__(name, **kwargs)\n"
          ]
        },
        {
          "output_type": "stream",
          "name": "stdout",
          "text": [
            "Model spawned\n",
            "Model: \"sequential_1\"\n",
            "_________________________________________________________________\n",
            " Layer (type)                Output Shape              Param #   \n",
            "=================================================================\n",
            " embedding_1 (Embedding)     (None, None, 128)         758656    \n",
            "                                                                 \n",
            " bidirectional_1 (Bidirectio  (None, 256)              263168    \n",
            " nal)                                                            \n",
            "                                                                 \n",
            " dense_2 (Dense)             (None, 128)               32896     \n",
            "                                                                 \n",
            " dense_3 (Dense)             (None, 1)                 129       \n",
            "                                                                 \n",
            "=================================================================\n",
            "Total params: 1,054,849\n",
            "Trainable params: 1,054,849\n",
            "Non-trainable params: 0\n",
            "_________________________________________________________________\n",
            "1/1 [==============================] - 15s 15s/step - loss: 0.6933 - acc: 0.4722 - val_loss: 0.6936 - val_acc: 0.4444\n",
            "Model saved new best val_acc is: 0.4444444477558136\n",
            "1/1 [==============================] - 11s 11s/step - loss: 0.6891 - acc: 0.5278 - val_loss: 0.6950 - val_acc: 0.4444\n",
            "1/1 [==============================] - 11s 11s/step - loss: 0.6845 - acc: 0.5278 - val_loss: 0.6968 - val_acc: 0.4444\n",
            "1/1 [==============================] - 12s 12s/step - loss: 0.6786 - acc: 0.5278 - val_loss: 0.6967 - val_acc: 0.4444\n",
            "1/1 [==============================] - 11s 11s/step - loss: 0.6703 - acc: 0.5278 - val_loss: 0.6939 - val_acc: 0.4444\n"
          ]
        },
        {
          "output_type": "display_data",
          "data": {
            "image/png": "[encoded data removed]",
            "text/plain": [
              "<Figure size 432x288 with 1 Axes>"
            ]
          },
          "metadata": {
            "needs_background": "light"
          }
        },
        {
          "output_type": "display_data",
          "data": {
            "image/png": "[encoded data removed]",
            "text/plain": [
              "<Figure size 432x288 with 1 Axes>"
            ]
          },
          "metadata": {
            "needs_background": "light"
          }
        }
      ]
    },
    {
      "cell_type": "code",
      "metadata": {
        "colab": {
          "base_uri": "https://localhost:8080/",
          "height": 1000
        },
        "id": "gwSudijPig78",
        "outputId": "1e01d7d5-fb4c-47ac-a365-86ee9ad3d790"
      },
      "source": [
        "model.Predict(None)"
      ],
      "execution_count": 5,
      "outputs": [
        {
          "output_type": "stream",
          "name": "stdout",
          "text": [
            "Model Accuracy: 0.5\n"
          ]
        },
        {
          "output_type": "display_data",
          "data": {
            "image/png": "[encoded data removed]",
            "text/plain": [
              "<Figure size 1800x1800 with 2 Axes>"
            ]
          },
          "metadata": {
            "needs_background": "light"
          }
        }
      ]
    },
    {
      "cell_type": "code",
      "metadata": {
        "id": "lrI4Oq7d0Y0b"
      },
      "source": [
        ""
      ],
      "execution_count": null,
      "outputs": []
    }
  ]
}
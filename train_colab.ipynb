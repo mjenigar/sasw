{
  "nbformat": 4,
  "nbformat_minor": 0,
  "metadata": {
    "colab": {
      "name": "sasw_dataset.ipynb",
      "provenance": []
    },
    "kernelspec": {
      "name": "python3",
      "display_name": "Python 3"
    },
    "language_info": {
      "name": "python"
    }
  },
  "cells": [
    {
      "cell_type": "code",
      "metadata": {
        "colab": {
          "base_uri": "https://localhost:8080/"
        },
        "id": "YwnXboNG8M86",
        "outputId": "bb01fe24-d8f0-4346-9f56-cd228f8cc764"
      },
      "source": [
        "from google.colab import drive\n",
        "drive.mount('/content/drive', force_remount=True)"
      ],
      "execution_count": 1,
      "outputs": [
        {
          "output_type": "stream",
          "name": "stdout",
          "text": [
            "Mounted at /content/drive\n"
          ]
        }
      ]
    },
    {
      "cell_type": "code",
      "metadata": {
        "colab": {
          "base_uri": "https://localhost:8080/"
        },
        "id": "debfb2IPqO95",
        "outputId": "11bff27c-6463-446f-8568-20f61d49e480"
      },
      "source": [
        "!unzip drive/MyDrive/sasw/data/data1.zip\n",
        "!unzip drive/MyDrive/sasw/data/data2.zip\n",
        "!unzip drive/MyDrive/sasw/data/data3.zip"
      ],
      "execution_count": 2,
      "outputs": [
        {
          "output_type": "stream",
          "name": "stdout",
          "text": [
            "Archive:  drive/MyDrive/sasw/data/data1.zip\n",
            "  inflating: submit.csv              \n",
            "  inflating: test.csv                \n",
            "  inflating: train.csv               \n",
            "Archive:  drive/MyDrive/sasw/data/data2.zip\n",
            "  inflating: Fake.csv                \n",
            "  inflating: True.csv                \n",
            "Archive:  drive/MyDrive/sasw/data/data3.zip\n",
            "  inflating: fake_or_real_news.csv   \n"
          ]
        }
      ]
    },
    {
      "cell_type": "code",
      "metadata": {
        "id": "kd-Oky4n8seM",
        "colab": {
          "base_uri": "https://localhost:8080/",
          "height": 997
        },
        "outputId": "6e2b6f34-01fa-411c-f855-35eeedf04a01"
      },
      "source": [
        "from DataLoader import DataLoader\n",
        "from Model import Model\n",
        "\n",
        "ROOT = \"data/\"\n",
        "# datasets = [\"data1\", \"data2\", \"data3\"]\n",
        "datasets = [\"data3\"]\n",
        "\n",
        "dataset = DataLoader(ROOT, datasets)\n",
        "dataset.dataset"
      ],
      "execution_count": 1,
      "outputs": [
        {
          "output_type": "stream",
          "name": "stdout",
          "text": [
            "[nltk_data] Downloading package stopwords to /root/nltk_data...\n",
            "[nltk_data]   Package stopwords is already up-to-date!\n",
            "[nltk_data] Downloading package punkt to /root/nltk_data...\n",
            "[nltk_data]   Package punkt is already up-to-date!\n",
            "Loading datasets...\n",
            "Loading from: data/data3/fake_or_real_news.csv\n",
            "Loaded: 65 rows\n",
            "\n",
            "Total loaded 5 rows\n",
            "\n",
            "Cleaning dataset...\n"
          ]
        },
        {
          "output_type": "stream",
          "name": "stderr",
          "text": [
            "  0%|          | 0/65 [00:00<?, ?it/s]/content/DataLoader.py:87: SettingWithCopyWarning: \n",
            "A value is trying to be set on a copy of a slice from a DataFrame\n",
            "\n",
            "See the caveats in the documentation: https://pandas.pydata.org/pandas-docs/stable/user_guide/indexing.html#returning-a-view-versus-a-copy\n",
            "  self.dataset[\"clean_words\"][i] = self.Preprocess(\"{} {}\".format(self.dataset[\"title\"][i], self.dataset[\"text\"][i]))\n",
            "/content/DataLoader.py:88: SettingWithCopyWarning: \n",
            "A value is trying to be set on a copy of a slice from a DataFrame\n",
            "\n",
            "See the caveats in the documentation: https://pandas.pydata.org/pandas-docs/stable/user_guide/indexing.html#returning-a-view-versus-a-copy\n",
            "  self.dataset[\"clean\"][i] = \" \".join(self.dataset[\"clean_words\"][i])\n",
            "100%|██████████| 65/65 [00:00<00:00, 527.29it/s]"
          ]
        },
        {
          "output_type": "stream",
          "name": "stdout",
          "text": [
            "DATASET: train 0.7 test 0.3\n"
          ]
        },
        {
          "output_type": "stream",
          "name": "stderr",
          "text": [
            "\n"
          ]
        },
        {
          "output_type": "execute_result",
          "data": {
            "text/html": [
              "<div>\n",
              "<style scoped>\n",
              "    .dataframe tbody tr th:only-of-type {\n",
              "        vertical-align: middle;\n",
              "    }\n",
              "\n",
              "    .dataframe tbody tr th {\n",
              "        vertical-align: top;\n",
              "    }\n",
              "\n",
              "    .dataframe thead th {\n",
              "        text-align: right;\n",
              "    }\n",
              "</style>\n",
              "<table border=\"1\" class=\"dataframe\">\n",
              "  <thead>\n",
              "    <tr style=\"text-align: right;\">\n",
              "      <th></th>\n",
              "      <th>title</th>\n",
              "      <th>text</th>\n",
              "      <th>label</th>\n",
              "      <th>clean_words</th>\n",
              "      <th>clean</th>\n",
              "    </tr>\n",
              "  </thead>\n",
              "  <tbody>\n",
              "    <tr>\n",
              "      <th>0</th>\n",
              "      <td>You Can Smell Hillary’s Fear</td>\n",
              "      <td>Daniel Greenfield, a Shillman Journalism Fello...</td>\n",
              "      <td>0</td>\n",
              "      <td>[smell, hillary, fear, daniel, greenfield, shi...</td>\n",
              "      <td>smell hillary fear daniel greenfield shillman ...</td>\n",
              "    </tr>\n",
              "    <tr>\n",
              "      <th>1</th>\n",
              "      <td>Watch The Exact Moment Paul Ryan Committed Pol...</td>\n",
              "      <td>Google Pinterest Digg Linkedin Reddit Stumbleu...</td>\n",
              "      <td>0</td>\n",
              "      <td>[watch, exact, moment, paul, ryan, committed, ...</td>\n",
              "      <td>watch exact moment paul ryan committed politic...</td>\n",
              "    </tr>\n",
              "    <tr>\n",
              "      <th>2</th>\n",
              "      <td>Kerry to go to Paris in gesture of sympathy</td>\n",
              "      <td>U.S. Secretary of State John F. Kerry said Mon...</td>\n",
              "      <td>1</td>\n",
              "      <td>[kerry, paris, gesture, sympathy, secretary, s...</td>\n",
              "      <td>kerry paris gesture sympathy secretary state j...</td>\n",
              "    </tr>\n",
              "    <tr>\n",
              "      <th>3</th>\n",
              "      <td>Bernie supporters on Twitter erupt in anger ag...</td>\n",
              "      <td>— Kaydee King (@KaydeeKing) November 9, 2016 T...</td>\n",
              "      <td>0</td>\n",
              "      <td>[bernie, supporters, twitter, erupt, anger, tr...</td>\n",
              "      <td>bernie supporters twitter erupt anger tried wa...</td>\n",
              "    </tr>\n",
              "    <tr>\n",
              "      <th>4</th>\n",
              "      <td>The Battle of New York: Why This Primary Matters</td>\n",
              "      <td>It's primary day in New York and front-runners...</td>\n",
              "      <td>1</td>\n",
              "      <td>[battle, york, primary, matters, primary, york...</td>\n",
              "      <td>battle york primary matters primary york runne...</td>\n",
              "    </tr>\n",
              "    <tr>\n",
              "      <th>...</th>\n",
              "      <td>...</td>\n",
              "      <td>...</td>\n",
              "      <td>...</td>\n",
              "      <td>...</td>\n",
              "      <td>...</td>\n",
              "    </tr>\n",
              "    <tr>\n",
              "      <th>60</th>\n",
              "      <td>Detroit women’s Halloween decorations depict ‘...</td>\n",
              "      <td>Print \\n[Ed. – How to take the fun out of Hall...</td>\n",
              "      <td>0</td>\n",
              "      <td>[detroit, women, halloween, decorations, depic...</td>\n",
              "      <td>detroit women halloween decorations depict rea...</td>\n",
              "    </tr>\n",
              "    <tr>\n",
              "      <th>61</th>\n",
              "      <td>Biden makes another surprise political stop</td>\n",
              "      <td>On this day in 1973, J. Fred Buzhardt, a lawye...</td>\n",
              "      <td>1</td>\n",
              "      <td>[biden, makes, surprise, political, stop, fred...</td>\n",
              "      <td>biden makes surprise political stop fred buzha...</td>\n",
              "    </tr>\n",
              "    <tr>\n",
              "      <th>62</th>\n",
              "      <td>Hillary Clinton's declining favorability numbe...</td>\n",
              "      <td>Buried beneath Wednesday's eye-popping headlin...</td>\n",
              "      <td>1</td>\n",
              "      <td>[hillary, clinton, declining, favorability, nu...</td>\n",
              "      <td>hillary clinton declining favorability numbers...</td>\n",
              "    </tr>\n",
              "    <tr>\n",
              "      <th>63</th>\n",
              "      <td>Comment on Quid Pro Quo? Wikileaks Email Revea...</td>\n",
              "      <td>New Wikileaks email dumps have revealed massiv...</td>\n",
              "      <td>0</td>\n",
              "      <td>[comment, quid, wikileaks, email, reveals, cli...</td>\n",
              "      <td>comment quid wikileaks email reveals clinton c...</td>\n",
              "    </tr>\n",
              "    <tr>\n",
              "      <th>64</th>\n",
              "      <td>Hillary Clinton: The criminal investigation ke...</td>\n",
              "      <td>While the country has been fixated on Donald T...</td>\n",
              "      <td>1</td>\n",
              "      <td>[hillary, clinton, criminal, investigation, ke...</td>\n",
              "      <td>hillary clinton criminal investigation keeps m...</td>\n",
              "    </tr>\n",
              "  </tbody>\n",
              "</table>\n",
              "<p>65 rows × 5 columns</p>\n",
              "</div>"
            ],
            "text/plain": [
              "                                                title  ...                                              clean\n",
              "0                        You Can Smell Hillary’s Fear  ...  smell hillary fear daniel greenfield shillman ...\n",
              "1   Watch The Exact Moment Paul Ryan Committed Pol...  ...  watch exact moment paul ryan committed politic...\n",
              "2         Kerry to go to Paris in gesture of sympathy  ...  kerry paris gesture sympathy secretary state j...\n",
              "3   Bernie supporters on Twitter erupt in anger ag...  ...  bernie supporters twitter erupt anger tried wa...\n",
              "4    The Battle of New York: Why This Primary Matters  ...  battle york primary matters primary york runne...\n",
              "..                                                ...  ...                                                ...\n",
              "60  Detroit women’s Halloween decorations depict ‘...  ...  detroit women halloween decorations depict rea...\n",
              "61        Biden makes another surprise political stop  ...  biden makes surprise political stop fred buzha...\n",
              "62  Hillary Clinton's declining favorability numbe...  ...  hillary clinton declining favorability numbers...\n",
              "63  Comment on Quid Pro Quo? Wikileaks Email Revea...  ...  comment quid wikileaks email reveals clinton c...\n",
              "64  Hillary Clinton: The criminal investigation ke...  ...  hillary clinton criminal investigation keeps m...\n",
              "\n",
              "[65 rows x 5 columns]"
            ]
          },
          "metadata": {},
          "execution_count": 1
        }
      ]
    },
    {
      "cell_type": "code",
      "metadata": {
        "colab": {
          "base_uri": "https://localhost:8080/"
        },
        "id": "H2n5zy1yrBP-",
        "outputId": "ccab4c23-8d5c-493a-80aa-26e1b59df16c"
      },
      "source": [
        "for i,doc in enumerate(dataset.train_sequences[:2]):\n",
        "     print(\"The padded encoding for document\",i+1,\" is : \",doc[:100])"
      ],
      "execution_count": 2,
      "outputs": [
        {
          "output_type": "stream",
          "name": "stdout",
          "text": [
            "The padded encoding for document 1  is :  [  24   35  516  681  136   74   12   24   35 1338 1339 2171   23  136\n",
            "  933  209 2172   20   15 1340 1341 2173  304  933 1342   59 2174   29\n",
            "  682 1343  516  683  517 2175  681  136   75  518 2176   23   15 2177\n",
            "  934   23   15  934  115  684   24   35  354 2178   15   24   35 1344\n",
            " 2179  210  136  685   24   35  257  258  686   24   35  211 1345  419\n",
            "  935    7  687   92  259  137   27 1346  355   59   27   62  688   59\n",
            " 2180  936  519  520   59  937   23 2181 1347  260  261  136 1348   15\n",
            "  938  689]\n",
            "The padded encoding for document 2  is :  [  26 2456    2  740   92  102   26  741  381   51   11    2  575  100\n",
            "   28  382  449  450  576  577    2 1001 2457 1002  115   26  232   18\n",
            "   25  225 2458   26 1492  578 1493    2   16  579  225 2459   99 1003\n",
            " 1004 2460   48    1  124  365    3    2 2461   73  171  742  743  580\n",
            "  450  576    6  103 2462 1494  581 1495 2463 1495 1496  221 2464 1497\n",
            " 2465  328   14 2466   26   86 1498   72    7    1  961  968  579  450\n",
            "  576 2467 1499   97  451  383 1003   14  190 2468 2469   23  452 1005\n",
            "    1   93]\n"
          ]
        }
      ]
    },
    {
      "cell_type": "code",
      "metadata": {
        "colab": {
          "base_uri": "https://localhost:8080/"
        },
        "id": "ccbMl7jdsQ53",
        "outputId": "e2f2e0a6-cf8e-4490-f101-f38cda9841ae"
      },
      "source": [
        "model = Model(dataset)"
      ],
      "execution_count": 3,
      "outputs": [
        {
          "output_type": "stream",
          "name": "stderr",
          "text": [
            "/usr/local/lib/python3.7/dist-packages/keras/optimizer_v2/adam.py:105: UserWarning: The `lr` argument is deprecated, use `learning_rate` instead.\n",
            "  super(Adam, self).__init__(name, **kwargs)\n"
          ]
        },
        {
          "output_type": "stream",
          "name": "stdout",
          "text": [
            "Model spawned\n",
            "Model: \"sequential\"\n",
            "_________________________________________________________________\n",
            " Layer (type)                Output Shape              Param #   \n",
            "=================================================================\n",
            " embedding (Embedding)       (None, None, 128)         758656    \n",
            "                                                                 \n",
            " bidirectional (Bidirectiona  (None, 256)              263168    \n",
            " l)                                                              \n",
            "                                                                 \n",
            " dense (Dense)               (None, 128)               32896     \n",
            "                                                                 \n",
            " dense_1 (Dense)             (None, 1)                 129       \n",
            "                                                                 \n",
            "=================================================================\n",
            "Total params: 1,054,849\n",
            "Trainable params: 1,054,849\n",
            "Non-trainable params: 0\n",
            "_________________________________________________________________\n"
          ]
        }
      ]
    },
    {
      "cell_type": "code",
      "metadata": {
        "colab": {
          "base_uri": "https://localhost:8080/",
          "height": 573
        },
        "id": "ap8yfv0usUza",
        "outputId": "30380652-ba63-4466-b979-6a4691d6971c"
      },
      "source": [
        "model.Train(5)\n",
        "model.PlotScore(\"acc\", None)\n",
        "model.PlotScore(\"loss\", None)"
      ],
      "execution_count": 5,
      "outputs": [
        {
          "output_type": "display_data",
          "data": {
            "image/png": "[encoded data removed]",
            "text/plain": [
              "<Figure size 432x288 with 1 Axes>"
            ]
          },
          "metadata": {
            "needs_background": "light"
          }
        },
        {
          "output_type": "display_data",
          "data": {
            "image/png": "[encoded data removed]",
            "text/plain": [
              "<Figure size 432x288 with 1 Axes>"
            ]
          },
          "metadata": {
            "needs_background": "light"
          }
        }
      ]
    },
    {
      "cell_type": "code",
      "metadata": {
        "id": "gwSudijPig78"
      },
      "source": [
        ""
      ],
      "execution_count": null,
      "outputs": []
    }
  ]
}
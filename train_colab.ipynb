{
  "nbformat": 4,
  "nbformat_minor": 0,
  "metadata": {
    "colab": {
      "name": "sasw_dataset.ipynb",
      "provenance": []
    },
    "kernelspec": {
      "name": "python3",
      "display_name": "Python 3"
    },
    "language_info": {
      "name": "python"
    }
  },
  "cells": [
    {
      "cell_type": "code",
      "metadata": {
        "colab": {
          "base_uri": "https://localhost:8080/"
        },
        "id": "YwnXboNG8M86",
        "outputId": "de50d629-9ec0-4158-f6c8-dc111324e676"
      },
      "source": [
        "from google.colab import drive\n",
        "drive.mount('/content/drive', force_remount=True)"
      ],
      "execution_count": 2,
      "outputs": [
        {
          "output_type": "stream",
          "name": "stdout",
          "text": [
            "Mounted at /content/drive\n"
          ]
        }
      ]
    },
    {
      "cell_type": "code",
      "metadata": {
        "colab": {
          "base_uri": "https://localhost:8080/"
        },
        "id": "debfb2IPqO95",
        "outputId": "b74e1a1b-2317-4246-bae5-997b88c7bdb2"
      },
      "source": [
        "# !unzip drive/MyDrive/sasw_data/data1.zip\n",
        "# !unzip drive/MyDrive/sasw_data/data2.zip\n",
        "!unzip drive/MyDrive/sasw_data/data3.zip"
      ],
      "execution_count": 7,
      "outputs": [
        {
          "output_type": "stream",
          "name": "stdout",
          "text": [
            "Archive:  drive/MyDrive/sasw_data/data3.zip\n",
            "  inflating: fake_or_real_news.csv   \n"
          ]
        }
      ]
    },
    {
      "cell_type": "code",
      "metadata": {
        "id": "kd-Oky4n8seM",
        "colab": {
          "base_uri": "https://localhost:8080/",
          "height": 1000
        },
        "outputId": "7d857d3a-2e54-4ad6-dde9-ecd9d83fff84"
      },
      "source": [
        "from DataLoader import DataLoader\n",
        "\n",
        "ROOT = \"data/\"\n",
        "datasets = [\"data1\", \"data2\", \"data3\"]\n",
        "\n",
        "dataset = DataLoader(ROOT, datasets)\n",
        "dataset.dataset"
      ],
      "execution_count": 9,
      "outputs": [
        {
          "output_type": "stream",
          "name": "stdout",
          "text": [
            "Loading datasets...\n",
            "Loading from: data/data1/train.csv\n",
            "Loaded: 20800 rows\n",
            "\n",
            "Loading from: data/data2/Fake.csv\n",
            "Loaded: 44281 rows\n",
            "\n",
            "Loading from: data/data2/True.csv\n",
            "Loaded: 65698 rows\n",
            "\n",
            "Loading from: data/data3/fake_or_real_news.csv\n",
            "Loaded: 72033 rows\n",
            "\n",
            "Total loaded 5 rows\n",
            "\n",
            "Cleaning dataset...\n"
          ]
        },
        {
          "output_type": "stream",
          "name": "stderr",
          "text": [
            "  0%|          | 0/72033 [00:00<?, ?it/s]/content/DataLoader.py:82: SettingWithCopyWarning: \n",
            "A value is trying to be set on a copy of a slice from a DataFrame\n",
            "\n",
            "See the caveats in the documentation: https://pandas.pydata.org/pandas-docs/stable/user_guide/indexing.html#returning-a-view-versus-a-copy\n",
            "  self.dataset[\"clean_words\"][i] = self.Preprocess(\"{} {}\".format(self.dataset[\"title\"][i], self.dataset[\"text\"][i]))\n",
            "/content/DataLoader.py:83: SettingWithCopyWarning: \n",
            "A value is trying to be set on a copy of a slice from a DataFrame\n",
            "\n",
            "See the caveats in the documentation: https://pandas.pydata.org/pandas-docs/stable/user_guide/indexing.html#returning-a-view-versus-a-copy\n",
            "  self.dataset[\"clean\"][i] = \" \".join(self.dataset[\"clean_words\"][i])\n",
            "100%|██████████| 72033/72033 [03:46<00:00, 317.91it/s]\n"
          ]
        },
        {
          "output_type": "stream",
          "name": "stdout",
          "text": [
            "DATASET: train 0.6 test 0.2 val 0.2\n"
          ]
        },
        {
          "output_type": "execute_result",
          "data": {
            "text/html": [
              "<div>\n",
              "<style scoped>\n",
              "    .dataframe tbody tr th:only-of-type {\n",
              "        vertical-align: middle;\n",
              "    }\n",
              "\n",
              "    .dataframe tbody tr th {\n",
              "        vertical-align: top;\n",
              "    }\n",
              "\n",
              "    .dataframe thead th {\n",
              "        text-align: right;\n",
              "    }\n",
              "</style>\n",
              "<table border=\"1\" class=\"dataframe\">\n",
              "  <thead>\n",
              "    <tr style=\"text-align: right;\">\n",
              "      <th></th>\n",
              "      <th>title</th>\n",
              "      <th>text</th>\n",
              "      <th>label</th>\n",
              "      <th>clean_words</th>\n",
              "      <th>clean</th>\n",
              "    </tr>\n",
              "  </thead>\n",
              "  <tbody>\n",
              "    <tr>\n",
              "      <th>0</th>\n",
              "      <td>House Dem Aide: We Didn’t Even See Comey’s Let...</td>\n",
              "      <td>House Dem Aide: We Didn’t Even See Comey’s Let...</td>\n",
              "      <td>1</td>\n",
              "      <td>[house, aide, comey, letter, jason, chaffetz, ...</td>\n",
              "      <td>house aide comey letter jason chaffetz tweeted...</td>\n",
              "    </tr>\n",
              "    <tr>\n",
              "      <th>1</th>\n",
              "      <td>FLYNN: Hillary Clinton, Big Woman on Campus - ...</td>\n",
              "      <td>Ever get the feeling your life circles the rou...</td>\n",
              "      <td>0</td>\n",
              "      <td>[flynn, hillary, clinton, woman, campus, breit...</td>\n",
              "      <td>flynn hillary clinton woman campus breitbart f...</td>\n",
              "    </tr>\n",
              "    <tr>\n",
              "      <th>2</th>\n",
              "      <td>Why the Truth Might Get You Fired</td>\n",
              "      <td>Why the Truth Might Get You Fired October 29, ...</td>\n",
              "      <td>1</td>\n",
              "      <td>[truth, fired, truth, fired, october, tension,...</td>\n",
              "      <td>truth fired truth fired october tension intell...</td>\n",
              "    </tr>\n",
              "    <tr>\n",
              "      <th>3</th>\n",
              "      <td>15 Civilians Killed In Single US Airstrike Hav...</td>\n",
              "      <td>Videos 15 Civilians Killed In Single US Airstr...</td>\n",
              "      <td>1</td>\n",
              "      <td>[civilians, killed, single, airstrike, identif...</td>\n",
              "      <td>civilians killed single airstrike identified v...</td>\n",
              "    </tr>\n",
              "    <tr>\n",
              "      <th>4</th>\n",
              "      <td>Iranian woman jailed for fictional unpublished...</td>\n",
              "      <td>Print \\nAn Iranian woman has been sentenced to...</td>\n",
              "      <td>1</td>\n",
              "      <td>[iranian, woman, jailed, fictional, unpublishe...</td>\n",
              "      <td>iranian woman jailed fictional unpublished sto...</td>\n",
              "    </tr>\n",
              "    <tr>\n",
              "      <th>...</th>\n",
              "      <td>...</td>\n",
              "      <td>...</td>\n",
              "      <td>...</td>\n",
              "      <td>...</td>\n",
              "      <td>...</td>\n",
              "    </tr>\n",
              "    <tr>\n",
              "      <th>72028</th>\n",
              "      <td>State Department says it can't find emails fro...</td>\n",
              "      <td>The State Department told the Republican Natio...</td>\n",
              "      <td>1</td>\n",
              "      <td>[state, department, says, emails, clinton, spe...</td>\n",
              "      <td>state department says emails clinton specialis...</td>\n",
              "    </tr>\n",
              "    <tr>\n",
              "      <th>72029</th>\n",
              "      <td>The ‘P’ in PBS Should Stand for ‘Plutocratic’ ...</td>\n",
              "      <td>The ‘P’ in PBS Should Stand for ‘Plutocratic’ ...</td>\n",
              "      <td>0</td>\n",
              "      <td>[stand, plutocratic, pentagon, stand, plutocra...</td>\n",
              "      <td>stand plutocratic pentagon stand plutocratic p...</td>\n",
              "    </tr>\n",
              "    <tr>\n",
              "      <th>72030</th>\n",
              "      <td>Anti-Trump Protesters Are Tools of the Oligarc...</td>\n",
              "      <td>Anti-Trump Protesters Are Tools of the Oligar...</td>\n",
              "      <td>0</td>\n",
              "      <td>[anti, trump, protesters, tools, oligarchy, in...</td>\n",
              "      <td>anti trump protesters tools oligarchy informat...</td>\n",
              "    </tr>\n",
              "    <tr>\n",
              "      <th>72031</th>\n",
              "      <td>In Ethiopia, Obama seeks progress on peace, se...</td>\n",
              "      <td>ADDIS ABABA, Ethiopia —President Obama convene...</td>\n",
              "      <td>1</td>\n",
              "      <td>[ethiopia, obama, seeks, progress, peace, secu...</td>\n",
              "      <td>ethiopia obama seeks progress peace security e...</td>\n",
              "    </tr>\n",
              "    <tr>\n",
              "      <th>72032</th>\n",
              "      <td>Jeb Bush Is Suddenly Attacking Trump. Here's W...</td>\n",
              "      <td>Jeb Bush Is Suddenly Attacking Trump. Here's W...</td>\n",
              "      <td>1</td>\n",
              "      <td>[bush, suddenly, attacking, trump, matters, bu...</td>\n",
              "      <td>bush suddenly attacking trump matters bush sud...</td>\n",
              "    </tr>\n",
              "  </tbody>\n",
              "</table>\n",
              "<p>72033 rows × 5 columns</p>\n",
              "</div>"
            ],
            "text/plain": [
              "                                                   title  ...                                              clean\n",
              "0      House Dem Aide: We Didn’t Even See Comey’s Let...  ...  house aide comey letter jason chaffetz tweeted...\n",
              "1      FLYNN: Hillary Clinton, Big Woman on Campus - ...  ...  flynn hillary clinton woman campus breitbart f...\n",
              "2                      Why the Truth Might Get You Fired  ...  truth fired truth fired october tension intell...\n",
              "3      15 Civilians Killed In Single US Airstrike Hav...  ...  civilians killed single airstrike identified v...\n",
              "4      Iranian woman jailed for fictional unpublished...  ...  iranian woman jailed fictional unpublished sto...\n",
              "...                                                  ...  ...                                                ...\n",
              "72028  State Department says it can't find emails fro...  ...  state department says emails clinton specialis...\n",
              "72029  The ‘P’ in PBS Should Stand for ‘Plutocratic’ ...  ...  stand plutocratic pentagon stand plutocratic p...\n",
              "72030  Anti-Trump Protesters Are Tools of the Oligarc...  ...  anti trump protesters tools oligarchy informat...\n",
              "72031  In Ethiopia, Obama seeks progress on peace, se...  ...  ethiopia obama seeks progress peace security e...\n",
              "72032  Jeb Bush Is Suddenly Attacking Trump. Here's W...  ...  bush suddenly attacking trump matters bush sud...\n",
              "\n",
              "[72033 rows x 5 columns]"
            ]
          },
          "metadata": {},
          "execution_count": 9
        }
      ]
    },
    {
      "cell_type": "code",
      "metadata": {
        "colab": {
          "base_uri": "https://localhost:8080/"
        },
        "id": "H2n5zy1yrBP-",
        "outputId": "237c064a-1e0d-4f38-917a-b12bf59ada37"
      },
      "source": [
        "for i,doc in enumerate(dataset.train_sequences[:2]):\n",
        "     print(\"The padded encoding for document\",i+1,\" is : \",doc[:100])"
      ],
      "execution_count": 10,
      "outputs": [
        {
          "output_type": "stream",
          "name": "stdout",
          "text": [
            "The padded encoding for document 1  is :  [ 5105 12218  1083   237   172  5267  3741   366     2   232   227  1013\n",
            "   237   172   264    21  1083   171  5267  3741   366     2   232   227\n",
            "  1013  3569  4307   302  5105 12218   488  1285 13479  2759  1641  1497\n",
            "     2 12218   242   276   478   475 12369  1846  3992  2759   441  1652\n",
            "     2    68   677  8861  2777   607 13006   987    18 17616   553  3917\n",
            "    56  2809    29   849   607 10136 35152     3     2   232   227   686\n",
            "   381   227  1654   227  9934   914   232     3    25  2552    29   849\n",
            "  1800 12218   167     7   404   259  1247   277  9793   772  1247   232\n",
            "   227 15736  2325    23]\n",
            "The padded encoding for document 2  is :  [  426  3254 13381   751   295  2170  3775   210    33    31   426  3190\n",
            "   176  3971    76    65 10257    26  2170   257  3775   210    11   721\n",
            "   559   382    76   171   283   109   176    52  2170  3808  1162  1035\n",
            "   288    32  1162    49   458    98   642  2170   257   963  1266   554\n",
            "   133   261   751   210  2814    91    88  6724  6061   132   497 31562\n",
            "  3039  2889    65  1089  4046  7625 13975  6438    25   681  2622   189\n",
            "   513   618  6061  5095   133  2104   853   257  1490  8126  2271   199\n",
            "   382   813   713   250  3808    40    32  1162    64  1035  2999   133\n",
            "    87   659  1089  1138]\n"
          ]
        }
      ]
    },
    {
      "cell_type": "code",
      "metadata": {
        "colab": {
          "base_uri": "https://localhost:8080/"
        },
        "id": "ccbMl7jdsQ53",
        "outputId": "4e31e905-f5df-4c5d-dfda-fa89ca84c91e"
      },
      "source": [
        "import numpy as np\n",
        "\n",
        "from tensorflow.keras.models import Sequential\n",
        "from tensorflow.keras.layers import Dense, Flatten, Embedding, Input, LSTM, Conv1D, MaxPool1D, Bidirectional\n",
        "from tensorflow.keras.models import Model\n",
        "\n",
        "# Sequential Model\n",
        "model = Sequential()\n",
        "\n",
        "# embeddidng layer\n",
        "model.add(Embedding(len(dataset.list_of_words), output_dim = 128))\n",
        "# model.add(Embedding(total_words, output_dim = 240))\n",
        "\n",
        "# Bi-Directional RNN and LSTM\n",
        "model.add(Bidirectional(LSTM(128)))\n",
        "\n",
        "# Dense layers\n",
        "model.add(Dense(128, activation = 'relu'))\n",
        "model.add(Dense(1,activation= 'sigmoid'))\n",
        "model.compile(optimizer='adam', loss='binary_crossentropy', metrics=['acc'])\n",
        "model.summary()"
      ],
      "execution_count": 11,
      "outputs": [
        {
          "output_type": "stream",
          "name": "stdout",
          "text": [
            "Model: \"sequential\"\n",
            "_________________________________________________________________\n",
            " Layer (type)                Output Shape              Param #   \n",
            "=================================================================\n",
            " embedding (Embedding)       (None, None, 128)         28517120  \n",
            "                                                                 \n",
            " bidirectional (Bidirectiona  (None, 256)              263168    \n",
            " l)                                                              \n",
            "                                                                 \n",
            " dense (Dense)               (None, 128)               32896     \n",
            "                                                                 \n",
            " dense_1 (Dense)             (None, 1)                 129       \n",
            "                                                                 \n",
            "=================================================================\n",
            "Total params: 28,813,313\n",
            "Trainable params: 28,813,313\n",
            "Non-trainable params: 0\n",
            "_________________________________________________________________\n"
          ]
        }
      ]
    },
    {
      "cell_type": "code",
      "metadata": {
        "colab": {
          "base_uri": "https://localhost:8080/"
        },
        "id": "ap8yfv0usUza",
        "outputId": "3885e351-ac84-4922-95dd-5894ad55aa7a"
      },
      "source": [
        "y_train = np.asarray(dataset.y_train)\n",
        "# train the model\n",
        "model.fit(dataset.train_sequences, y_train, batch_size = 64, validation_split = 0.2, epochs = 5)"
      ],
      "execution_count": null,
      "outputs": [
        {
          "output_type": "stream",
          "name": "stdout",
          "text": [
            "Epoch 1/5\n",
            "127/577 [=====>........................] - ETA: 2:50:46 - loss: 0.4112 - acc: 0.8055"
          ]
        }
      ]
    },
    {
      "cell_type": "code",
      "metadata": {
        "id": "3PoXCuH9sbEh"
      },
      "source": [
        ""
      ],
      "execution_count": null,
      "outputs": []
    }
  ]
}